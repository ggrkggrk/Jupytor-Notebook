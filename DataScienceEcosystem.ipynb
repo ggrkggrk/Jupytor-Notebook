{
 "cells": [
  {
   "cell_type": "markdown",
   "id": "2dccecca-1018-4f8c-8590-245d4a3019ad",
   "metadata": {},
   "source": [
    "# Data Science Tools and Ecosystem"
   ]
  },
  {
   "cell_type": "markdown",
   "id": "8d863f22-4804-4e44-bcb8-d08e122ae619",
   "metadata": {},
   "source": [
    "In this notebook, Data Science Tools and Ecosystem are summarized."
   ]
  },
  {
   "cell_type": "markdown",
   "id": "82b4b840-a7c6-4feb-bff5-a349ca5e3d7e",
   "metadata": {},
   "source": [
    "**Objectives:**\n",
    "* List of popular languages used for Data Science\n",
    "* Some of the Commonly used libraries by Data Scientists\n",
    "* Data Science tools\n",
    "* Evaluating arithemetic Expressions in Python"
   ]
  },
  {
   "cell_type": "markdown",
   "id": "46570de9-fee6-42b5-8f39-f030ffad2bc7",
   "metadata": {},
   "source": [
    "Some of the popular languages that Data Scientists use are:\n",
    "1. Python\n",
    "2. R\n",
    "3. SQL"
   ]
  },
  {
   "cell_type": "markdown",
   "id": "1abf2e60-15d9-4582-9af6-9330833ea37e",
   "metadata": {
    "tags": []
   },
   "source": [
    "Some of the commonly used libraries used by Data Scientists include:\n",
    "1. Numpy\n",
    "2. Pandas\n",
    "3. SciPy\n",
    "4. MatPlotlib MatPlotlib"
   ]
  },
  {
   "cell_type": "markdown",
   "id": "6fca574d-d811-4a01-834c-152168f3f46e",
   "metadata": {},
   "source": [
    "|**Data Science Tools**|\n",
    "|----------------------|\n",
    "|Jupyter Notebooks|\n",
    "|RStudio|\n",
    "|Apache Spark|\n"
   ]
  },
  {
   "cell_type": "markdown",
   "id": "8a37f843-9a80-4fff-a0ec-de5ef80f027e",
   "metadata": {},
   "source": [
    "### Below are a few examples of evaluating arithmetic expressions in Python"
   ]
  },
  {
   "cell_type": "markdown",
   "id": "bb3e94f8-2afe-4d11-a1c7-5580b2656f1a",
   "metadata": {},
   "source": [
    "This a simple arithmetic expression to mutiply then add integers"
   ]
  },
  {
   "cell_type": "code",
   "execution_count": 2,
   "id": "219d916e-b7c1-4800-becc-ba9fdfd6e20d",
   "metadata": {
    "tags": []
   },
   "outputs": [
    {
     "data": {
      "text/plain": [
       "17"
      ]
     },
     "execution_count": 2,
     "metadata": {},
     "output_type": "execute_result"
    }
   ],
   "source": [
    "(3*4)+5"
   ]
  },
  {
   "cell_type": "markdown",
   "id": "c4a209cc-e9cc-466f-8bda-98b2a86fdb44",
   "metadata": {},
   "source": [
    "This will convert 200 minutes to hours by diving by 60"
   ]
  },
  {
   "cell_type": "code",
   "execution_count": 3,
   "id": "630434ab-1f4e-463d-8612-55ba27a6d230",
   "metadata": {
    "tags": []
   },
   "outputs": [
    {
     "data": {
      "text/plain": [
       "3.3333333333333335"
      ]
     },
     "execution_count": 3,
     "metadata": {},
     "output_type": "execute_result"
    }
   ],
   "source": [
    "200/60"
   ]
  },
  {
   "cell_type": "markdown",
   "id": "382981dd-baa4-4985-a943-d7dd901e298d",
   "metadata": {},
   "source": [
    "## Author\n",
    "Gokul Govind"
   ]
  },
  {
   "cell_type": "code",
   "execution_count": null,
   "id": "ddf2269f-901d-4ad2-a94a-b82af9fbf6fa",
   "metadata": {},
   "outputs": [],
   "source": []
  }
 ],
 "metadata": {
  "kernelspec": {
   "display_name": "Python",
   "language": "python",
   "name": "conda-env-python-py"
  },
  "language_info": {
   "codemirror_mode": {
    "name": "ipython",
    "version": 3
   },
   "file_extension": ".py",
   "mimetype": "text/x-python",
   "name": "python",
   "nbconvert_exporter": "python",
   "pygments_lexer": "ipython3",
   "version": "3.7.12"
  }
 },
 "nbformat": 4,
 "nbformat_minor": 5
}
